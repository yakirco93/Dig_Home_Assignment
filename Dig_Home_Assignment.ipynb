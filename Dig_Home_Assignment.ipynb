{
 "cells": [
  {
   "cell_type": "code",
   "execution_count": 25,
   "id": "363fdcd9",
   "metadata": {},
   "outputs": [],
   "source": [
    "import pandas as pd\n",
    "\n",
    "card = '4103-7997-0901-4513'\n"
   ]
  },
  {
   "cell_type": "code",
   "execution_count": 37,
   "id": "8cf8207c",
   "metadata": {},
   "outputs": [],
   "source": [
    "# A function that recognizes credit cards in about 10 minutes\n",
    "def credit_card (val):\n",
    "    counter_1 = 0\n",
    "    counter_2 = 0\n",
    "    for i in val:\n",
    "        if i.isdigit():\n",
    "            counter_1 +=1\n",
    "        if i == '-':\n",
    "            counter_2 +=1\n",
    "    if counter_1 == 16 and counter_2== 3:\n",
    "        return True\n",
    "    else:\n",
    "        return False\n"
   ]
  },
  {
   "cell_type": "code",
   "execution_count": 39,
   "id": "33f8c30a",
   "metadata": {},
   "outputs": [
    {
     "data": {
      "text/plain": [
       "True"
      ]
     },
     "execution_count": 39,
     "metadata": {},
     "output_type": "execute_result"
    }
   ],
   "source": [
    "credit_card (card)"
   ]
  },
  {
   "cell_type": "code",
   "execution_count": 27,
   "id": "585f0154",
   "metadata": {},
   "outputs": [
    {
     "data": {
      "text/html": [
       "<div>\n",
       "<style scoped>\n",
       "    .dataframe tbody tr th:only-of-type {\n",
       "        vertical-align: middle;\n",
       "    }\n",
       "\n",
       "    .dataframe tbody tr th {\n",
       "        vertical-align: top;\n",
       "    }\n",
       "\n",
       "    .dataframe thead th {\n",
       "        text-align: right;\n",
       "    }\n",
       "</style>\n",
       "<table border=\"1\" class=\"dataframe\">\n",
       "  <thead>\n",
       "    <tr style=\"text-align: right;\">\n",
       "      <th></th>\n",
       "      <th>customer_id</th>\n",
       "      <th>medicare_id</th>\n",
       "      <th>first_name</th>\n",
       "      <th>last_name</th>\n",
       "      <th>street_addr</th>\n",
       "      <th>city</th>\n",
       "      <th>zipc</th>\n",
       "      <th>phone_num</th>\n",
       "      <th>email</th>\n",
       "      <th>cc_num</th>\n",
       "      <th>transaction_amount</th>\n",
       "      <th>transaction_date</th>\n",
       "    </tr>\n",
       "  </thead>\n",
       "  <tbody>\n",
       "    <tr>\n",
       "      <th>0</th>\n",
       "      <td>1</td>\n",
       "      <td>3NC8KP9GU96</td>\n",
       "      <td>Gillian</td>\n",
       "      <td>McLean</td>\n",
       "      <td>Studio 0, Martin keys</td>\n",
       "      <td>Herbertbury</td>\n",
       "      <td>B9 4ZU</td>\n",
       "      <td>0121 496 0879</td>\n",
       "      <td>zlloyd@example.org</td>\n",
       "      <td>3528001953574659</td>\n",
       "      <td>428.78</td>\n",
       "      <td>2018-01-18T19:48:16</td>\n",
       "    </tr>\n",
       "    <tr>\n",
       "      <th>1</th>\n",
       "      <td>2</td>\n",
       "      <td>9QC5VR2WK40</td>\n",
       "      <td>Robert</td>\n",
       "      <td>Davis</td>\n",
       "      <td>290 Smith estates</td>\n",
       "      <td>South Aimee</td>\n",
       "      <td>IG11 9LH</td>\n",
       "      <td>0115 4960260</td>\n",
       "      <td>tuckermathew@example.com</td>\n",
       "      <td>3586368768543057</td>\n",
       "      <td>33.17</td>\n",
       "      <td>1994-01-16T07:02:27</td>\n",
       "    </tr>\n",
       "    <tr>\n",
       "      <th>2</th>\n",
       "      <td>3</td>\n",
       "      <td>2AT8HN5XD91</td>\n",
       "      <td>Damian</td>\n",
       "      <td>Farrell</td>\n",
       "      <td>Flat 0, Brenda causeway</td>\n",
       "      <td>Port Joannaside</td>\n",
       "      <td>OL21 9NP</td>\n",
       "      <td>01632 960978</td>\n",
       "      <td>marccameron@example.net</td>\n",
       "      <td>3589325461730727</td>\n",
       "      <td>158.51</td>\n",
       "      <td>1998-10-18T00:35:07</td>\n",
       "    </tr>\n",
       "    <tr>\n",
       "      <th>3</th>\n",
       "      <td>4</td>\n",
       "      <td>6MU5-EY5-TG14</td>\n",
       "      <td>Chloe</td>\n",
       "      <td>Williams</td>\n",
       "      <td>70 Janice bypass</td>\n",
       "      <td>East Judith</td>\n",
       "      <td>BR12 8EJ</td>\n",
       "      <td>+44131 496 0802</td>\n",
       "      <td>slaterhannah@example.net</td>\n",
       "      <td>4103-7997-0901-4513</td>\n",
       "      <td>453.72</td>\n",
       "      <td>1996-06-21T02:14:49</td>\n",
       "    </tr>\n",
       "    <tr>\n",
       "      <th>4</th>\n",
       "      <td>5</td>\n",
       "      <td>6DP2EM7XV13</td>\n",
       "      <td>Dorothy</td>\n",
       "      <td>Webb</td>\n",
       "      <td>Flat 6, Marian centers</td>\n",
       "      <td>Angelatown</td>\n",
       "      <td>N8H 1UL</td>\n",
       "      <td>01632 9607623328</td>\n",
       "      <td>zhodgson@example.net</td>\n",
       "      <td>60428779700</td>\n",
       "      <td>12.17</td>\n",
       "      <td>1996-03-07T08:25:57</td>\n",
       "    </tr>\n",
       "  </tbody>\n",
       "</table>\n",
       "</div>"
      ],
      "text/plain": [
       "   customer_id    medicare_id first_name last_name              street_addr  \\\n",
       "0            1    3NC8KP9GU96    Gillian    McLean    Studio 0, Martin keys   \n",
       "1            2    9QC5VR2WK40     Robert     Davis        290 Smith estates   \n",
       "2            3    2AT8HN5XD91     Damian   Farrell  Flat 0, Brenda causeway   \n",
       "3            4  6MU5-EY5-TG14      Chloe  Williams         70 Janice bypass   \n",
       "4            5    6DP2EM7XV13    Dorothy      Webb   Flat 6, Marian centers   \n",
       "\n",
       "              city      zipc         phone_num                     email  \\\n",
       "0      Herbertbury    B9 4ZU     0121 496 0879        zlloyd@example.org   \n",
       "1      South Aimee  IG11 9LH      0115 4960260  tuckermathew@example.com   \n",
       "2  Port Joannaside  OL21 9NP      01632 960978   marccameron@example.net   \n",
       "3      East Judith  BR12 8EJ   +44131 496 0802  slaterhannah@example.net   \n",
       "4       Angelatown   N8H 1UL  01632 9607623328      zhodgson@example.net   \n",
       "\n",
       "                cc_num  transaction_amount     transaction_date  \n",
       "0     3528001953574659              428.78  2018-01-18T19:48:16  \n",
       "1     3586368768543057               33.17  1994-01-16T07:02:27  \n",
       "2     3589325461730727              158.51  1998-10-18T00:35:07  \n",
       "3  4103-7997-0901-4513              453.72  1996-06-21T02:14:49  \n",
       "4          60428779700               12.17  1996-03-07T08:25:57  "
      ]
     },
     "execution_count": 27,
     "metadata": {},
     "output_type": "execute_result"
    }
   ],
   "source": [
    "file = pd.read_csv(r'C:\\Users\\Yakir\\Downloads\\financials.csv')\n",
    "file.head()"
   ]
  },
  {
   "cell_type": "code",
   "execution_count": 29,
   "id": "cad4b6fe",
   "metadata": {},
   "outputs": [
    {
     "data": {
      "text/plain": [
       "Index(['medicare_id', 'first_name', 'last_name', 'street_addr', 'city', 'zipc',\n",
       "       'phone_num', 'email', 'cc_num', 'transaction_date'],\n",
       "      dtype='object')"
      ]
     },
     "execution_count": 29,
     "metadata": {},
     "output_type": "execute_result"
    }
   ],
   "source": [
    "list_of_columns = file.select_dtypes(object).columns\n",
    "list_of_columns"
   ]
  },
  {
   "cell_type": "code",
   "execution_count": 61,
   "id": "8e80e05b",
   "metadata": {},
   "outputs": [],
   "source": [
    "# A loop that checks all the values in the file against the function and inserts them into a new file\n",
    "# About 40 minutes\n",
    "\n",
    "from datetime import datetime\n",
    "import csv\n",
    "new_data = []\n",
    "\n",
    "for val in file.values.flatten():\n",
    "    str_val = str(val)\n",
    "    if credit_card(str_val):\n",
    "        current_time = datetime.now().strftime('%Y-%m-%d %H:%M:%S')\n",
    "        new_data.append(['credit card', current_time])\n",
    "\n",
    "        \n",
    "new_df = pd.DataFrame(new_data, columns=['Type', 'Date'])\n",
    "\n",
    "        \n",
    "current_date = datetime.now().strftime('%Y-%m-%d')\n",
    "output_file = r'C:\\Users\\Yakir\\Downloads\\output_{}.csv'.format(current_date)\n",
    "new_df.to_csv(output_file, index=False)\n",
    "            "
   ]
  },
  {
   "cell_type": "code",
   "execution_count": 62,
   "id": "b4834d67",
   "metadata": {},
   "outputs": [
    {
     "data": {
      "text/plain": [
       "['credit card 2023-02-22T12:49:47.564325',\n",
       " 'credit card 2023-02-22T12:49:47.565325',\n",
       " 'credit card 2023-02-22T12:49:47.565325',\n",
       " 'credit card 2023-02-22T12:49:47.565325',\n",
       " 'credit card 2023-02-22T12:49:47.565325',\n",
       " 'credit card 2023-02-22T12:49:47.566766',\n",
       " 'credit card 2023-02-22T12:49:47.566930',\n",
       " 'credit card 2023-02-22T12:49:47.567033']"
      ]
     },
     "execution_count": 62,
     "metadata": {},
     "output_type": "execute_result"
    }
   ],
   "source": [
    "list"
   ]
  },
  {
   "cell_type": "code",
   "execution_count": 104,
   "id": "eb2f43df",
   "metadata": {},
   "outputs": [],
   "source": [
    "# A second function that checks medicare id\n",
    "# About 20 minutes\n",
    "\n",
    "def medicare_id(val):\n",
    "    if not isinstance(val, str):\n",
    "        return False\n",
    "    if len(val) != 13:\n",
    "        return False\n",
    "    for i in range(13):\n",
    "        if i in [0, 3, 7,11,12] and not val[i].isdigit():\n",
    "            return False\n",
    "        elif i in [1, 5 , 10] and not val[i].isalpha():\n",
    "            return False\n",
    "    return True\n",
    "            "
   ]
  },
  {
   "cell_type": "code",
   "execution_count": 105,
   "id": "3bab3506",
   "metadata": {},
   "outputs": [
    {
     "data": {
      "text/plain": [
       "False"
      ]
     },
     "execution_count": 105,
     "metadata": {},
     "output_type": "execute_result"
    }
   ],
   "source": [
    "med = '1EG54-TE5-MK73'\n",
    "medicare_id(med)"
   ]
  },
  {
   "cell_type": "code",
   "execution_count": 107,
   "id": "033d27c7",
   "metadata": {},
   "outputs": [],
   "source": [
    "# Inserting the two functions into the loop\n",
    "# About 20 minutes\n",
    "\n",
    "from datetime import datetime\n",
    "import csv\n",
    "new_data = []\n",
    "\n",
    "for val in file.values.flatten():\n",
    "    str_val = str(val)\n",
    "    if credit_card(str_val):\n",
    "        current_time = datetime.now().strftime('%Y-%m-%d %H:%M:%S')\n",
    "        new_data.append(['credit card', current_time])\n",
    "    elif medicare_id(str_val):\n",
    "        current_time = datetime.now().strftime('%Y-%m-%d %H:%M:%S')\n",
    "        new_data.append(['medicare id', current_time])\n",
    "\n",
    "        \n",
    "new_df = pd.DataFrame(new_data, columns=['Sensitive Values', 'Date'])\n",
    "\n",
    "        \n",
    "current_date = datetime.now().strftime('%Y-%m-%d')\n",
    "output_file = r'C:\\Users\\Yakir\\Downloads\\output_{}.csv'.format(current_date)\n",
    "new_df.to_csv(output_file, index=False)\n",
    "            "
   ]
  },
  {
   "cell_type": "code",
   "execution_count": 132,
   "id": "afabc4ee",
   "metadata": {},
   "outputs": [
    {
     "name": "stdout",
     "output_type": "stream",
     "text": [
      "Please right the root of your file same like \"C:\\Users\\Yakir\\Downloads\\financials.csv\": C:\\Users\\Yakir\\Downloads\\financials.csv\n"
     ]
    }
   ],
   "source": [
    "User_file = input(r'Please right the root of your file same like \"C:\\Users\\Yakir\\Downloads\\financials.csv\": ')\n"
   ]
  },
  {
   "cell_type": "code",
   "execution_count": 134,
   "id": "f79cd7bd",
   "metadata": {},
   "outputs": [
    {
     "data": {
      "text/html": [
       "<div>\n",
       "<style scoped>\n",
       "    .dataframe tbody tr th:only-of-type {\n",
       "        vertical-align: middle;\n",
       "    }\n",
       "\n",
       "    .dataframe tbody tr th {\n",
       "        vertical-align: top;\n",
       "    }\n",
       "\n",
       "    .dataframe thead th {\n",
       "        text-align: right;\n",
       "    }\n",
       "</style>\n",
       "<table border=\"1\" class=\"dataframe\">\n",
       "  <thead>\n",
       "    <tr style=\"text-align: right;\">\n",
       "      <th></th>\n",
       "      <th>customer_id</th>\n",
       "      <th>medicare_id</th>\n",
       "      <th>first_name</th>\n",
       "      <th>last_name</th>\n",
       "      <th>street_addr</th>\n",
       "      <th>city</th>\n",
       "      <th>zipc</th>\n",
       "      <th>phone_num</th>\n",
       "      <th>email</th>\n",
       "      <th>cc_num</th>\n",
       "      <th>transaction_amount</th>\n",
       "      <th>transaction_date</th>\n",
       "    </tr>\n",
       "  </thead>\n",
       "  <tbody>\n",
       "    <tr>\n",
       "      <th>0</th>\n",
       "      <td>1</td>\n",
       "      <td>3NC8KP9GU96</td>\n",
       "      <td>Gillian</td>\n",
       "      <td>McLean</td>\n",
       "      <td>Studio 0, Martin keys</td>\n",
       "      <td>Herbertbury</td>\n",
       "      <td>B9 4ZU</td>\n",
       "      <td>0121 496 0879</td>\n",
       "      <td>zlloyd@example.org</td>\n",
       "      <td>3528001953574659</td>\n",
       "      <td>428.78</td>\n",
       "      <td>2018-01-18T19:48:16</td>\n",
       "    </tr>\n",
       "    <tr>\n",
       "      <th>1</th>\n",
       "      <td>2</td>\n",
       "      <td>9QC5VR2WK40</td>\n",
       "      <td>Robert</td>\n",
       "      <td>Davis</td>\n",
       "      <td>290 Smith estates</td>\n",
       "      <td>South Aimee</td>\n",
       "      <td>IG11 9LH</td>\n",
       "      <td>0115 4960260</td>\n",
       "      <td>tuckermathew@example.com</td>\n",
       "      <td>3586368768543057</td>\n",
       "      <td>33.17</td>\n",
       "      <td>1994-01-16T07:02:27</td>\n",
       "    </tr>\n",
       "    <tr>\n",
       "      <th>2</th>\n",
       "      <td>3</td>\n",
       "      <td>2AT8HN5XD91</td>\n",
       "      <td>Damian</td>\n",
       "      <td>Farrell</td>\n",
       "      <td>Flat 0, Brenda causeway</td>\n",
       "      <td>Port Joannaside</td>\n",
       "      <td>OL21 9NP</td>\n",
       "      <td>01632 960978</td>\n",
       "      <td>marccameron@example.net</td>\n",
       "      <td>3589325461730727</td>\n",
       "      <td>158.51</td>\n",
       "      <td>1998-10-18T00:35:07</td>\n",
       "    </tr>\n",
       "    <tr>\n",
       "      <th>3</th>\n",
       "      <td>4</td>\n",
       "      <td>6MU5-EY5-TG14</td>\n",
       "      <td>Chloe</td>\n",
       "      <td>Williams</td>\n",
       "      <td>70 Janice bypass</td>\n",
       "      <td>East Judith</td>\n",
       "      <td>BR12 8EJ</td>\n",
       "      <td>+44131 496 0802</td>\n",
       "      <td>slaterhannah@example.net</td>\n",
       "      <td>4103-7997-0901-4513</td>\n",
       "      <td>453.72</td>\n",
       "      <td>1996-06-21T02:14:49</td>\n",
       "    </tr>\n",
       "    <tr>\n",
       "      <th>4</th>\n",
       "      <td>5</td>\n",
       "      <td>6DP2EM7XV13</td>\n",
       "      <td>Dorothy</td>\n",
       "      <td>Webb</td>\n",
       "      <td>Flat 6, Marian centers</td>\n",
       "      <td>Angelatown</td>\n",
       "      <td>N8H 1UL</td>\n",
       "      <td>01632 9607623328</td>\n",
       "      <td>zhodgson@example.net</td>\n",
       "      <td>60428779700</td>\n",
       "      <td>12.17</td>\n",
       "      <td>1996-03-07T08:25:57</td>\n",
       "    </tr>\n",
       "  </tbody>\n",
       "</table>\n",
       "</div>"
      ],
      "text/plain": [
       "   customer_id    medicare_id first_name last_name              street_addr  \\\n",
       "0            1    3NC8KP9GU96    Gillian    McLean    Studio 0, Martin keys   \n",
       "1            2    9QC5VR2WK40     Robert     Davis        290 Smith estates   \n",
       "2            3    2AT8HN5XD91     Damian   Farrell  Flat 0, Brenda causeway   \n",
       "3            4  6MU5-EY5-TG14      Chloe  Williams         70 Janice bypass   \n",
       "4            5    6DP2EM7XV13    Dorothy      Webb   Flat 6, Marian centers   \n",
       "\n",
       "              city      zipc         phone_num                     email  \\\n",
       "0      Herbertbury    B9 4ZU     0121 496 0879        zlloyd@example.org   \n",
       "1      South Aimee  IG11 9LH      0115 4960260  tuckermathew@example.com   \n",
       "2  Port Joannaside  OL21 9NP      01632 960978   marccameron@example.net   \n",
       "3      East Judith  BR12 8EJ   +44131 496 0802  slaterhannah@example.net   \n",
       "4       Angelatown   N8H 1UL  01632 9607623328      zhodgson@example.net   \n",
       "\n",
       "                cc_num  transaction_amount     transaction_date  \n",
       "0     3528001953574659              428.78  2018-01-18T19:48:16  \n",
       "1     3586368768543057               33.17  1994-01-16T07:02:27  \n",
       "2     3589325461730727              158.51  1998-10-18T00:35:07  \n",
       "3  4103-7997-0901-4513              453.72  1996-06-21T02:14:49  \n",
       "4          60428779700               12.17  1996-03-07T08:25:57  "
      ]
     },
     "execution_count": 134,
     "metadata": {},
     "output_type": "execute_result"
    }
   ],
   "source": [
    "User_file\n",
    "file = pd.read_csv(User_file)\n",
    "file.head()"
   ]
  },
  {
   "cell_type": "code",
   "execution_count": 137,
   "id": "758e957e",
   "metadata": {},
   "outputs": [
    {
     "name": "stdout",
     "output_type": "stream",
     "text": [
      "Please right the root of your file same like \"C:\\Users\\Yakir\\Downloads\\financials.csv\": C:\\Users\\Yakir\\Downloads\\financials.csv\n"
     ]
    }
   ],
   "source": [
    "# Last step putting everything together and run\n",
    "# Then righting it in a file and run it through the terminal\n",
    "# about 15 minutes\n",
    "\n",
    "import pandas as pd\n",
    "from datetime import datetime\n",
    "\n",
    "def credit_card (val):\n",
    "    counter_1 = 0\n",
    "    counter_2 = 0\n",
    "    for i in val:\n",
    "        if i.isdigit():\n",
    "            counter_1 +=1\n",
    "        if i == '-':\n",
    "            counter_2 +=1\n",
    "    if counter_1 == 16 and counter_2== 3:\n",
    "        return True\n",
    "    else:\n",
    "        return False\n",
    "\n",
    "def medicare_id(val):\n",
    "    if not isinstance(val, str):\n",
    "        return False\n",
    "    if len(val) != 13:\n",
    "        return False\n",
    "    for i in range(13):\n",
    "        if i in [0, 3, 7,11,12] and not val[i].isdigit():\n",
    "            return False\n",
    "        elif i in [1, 5 , 10] and not val[i].isalpha():\n",
    "            return False\n",
    "    return True\n",
    "            \n",
    "User_file = input(r'Please right the root of your file same like \"C:\\Users\\Yakir\\Downloads\\financials.csv\": ')\n",
    "file = pd.read_csv(User_file)\n",
    "new_data = []\n",
    "\n",
    "for val in file.values.flatten():\n",
    "    str_val = str(val)\n",
    "    if credit_card(str_val):\n",
    "        current_time = datetime.now().strftime('%Y-%m-%d %H:%M:%S')\n",
    "        new_data.append(['credit card', current_time])\n",
    "    elif medicare_id(str_val):\n",
    "        current_time = datetime.now().strftime('%Y-%m-%d %H:%M:%S')\n",
    "        new_data.append(['medicare id', current_time])\n",
    "\n",
    "        \n",
    "new_df = pd.DataFrame(new_data, columns=['Sensitive Values', 'Date'])\n",
    "\n",
    "        \n",
    "current_date = datetime.now().strftime('%Y-%m-%d')\n",
    "output_file = r'C:\\Users\\Yakir\\Downloads\\output_{}.csv'.format(current_date)\n",
    "new_df.to_csv(output_file, index=False)"
   ]
  },
  {
   "cell_type": "code",
   "execution_count": null,
   "id": "f229403b",
   "metadata": {},
   "outputs": [],
   "source": []
  }
 ],
 "metadata": {
  "kernelspec": {
   "display_name": "Python 3",
   "language": "python",
   "name": "python3"
  },
  "language_info": {
   "codemirror_mode": {
    "name": "ipython",
    "version": 3
   },
   "file_extension": ".py",
   "mimetype": "text/x-python",
   "name": "python",
   "nbconvert_exporter": "python",
   "pygments_lexer": "ipython3",
   "version": "3.6.5"
  }
 },
 "nbformat": 4,
 "nbformat_minor": 5
}
